{
 "cells": [
  {
   "cell_type": "markdown",
   "id": "97f9ea35-c5af-46fc-bc15-287fbc872494",
   "metadata": {},
   "source": [
    "# TF4ces Search Engine\n",
    "## Evaluation Pipeline"
   ]
  },
  {
   "cell_type": "markdown",
   "id": "2eac753c-7e23-4936-972c-932c493e7bf0",
   "metadata": {},
   "source": [
    "Setup system paths"
   ]
  },
  {
   "cell_type": "code",
   "execution_count": 1,
   "id": "5ea39c34-c4d7-4584-b6aa-476766f5b23b",
   "metadata": {
    "tags": []
   },
   "outputs": [
    {
     "data": {
      "text/plain": [
       "PosixPath('/Users/ataago/Documents/git/TF4ces/TF4ces-search-engine')"
      ]
     },
     "execution_count": 1,
     "metadata": {},
     "output_type": "execute_result"
    }
   ],
   "source": [
    "from pathlib import Path\n",
    "import sys\n",
    "\n",
    "__WORKSPACE__ = Path.cwd().parent.parent\n",
    "sys.path.append(str(__WORKSPACE__))\n",
    "\n",
    "__WORKSPACE__"
   ]
  },
  {
   "cell_type": "code",
   "execution_count": 2,
   "id": "0ef6f53d-ec8a-4374-afdd-29fd570d636c",
   "metadata": {
    "tags": []
   },
   "outputs": [],
   "source": [
    "# Native imports\n",
    "from copy import deepcopy\n",
    "from IPython.core.display import HTML\n",
    "\n",
    "# Third-party imports\n",
    "import pandas as pd\n",
    "import matplotlib.pyplot as plt\n",
    "\n",
    "# User imports\n",
    "from config.conf import __ALL_MODELS__\n",
    "from src.TF4ces_search_engine.data.data_gathering import DataGathering\n",
    "from src.main_ensemble import TF4cesSearchEnsemble\n",
    "from src.utils.ensemble_strategy import EnsembleStrategy\n",
    "from src.utils.evalutor import calc_mean_recall_n_precision"
   ]
  },
  {
   "cell_type": "markdown",
   "id": "cf5bd57f-75b0-47eb-a0e8-a33b8b6ffdcc",
   "metadata": {},
   "source": [
    "### Configs"
   ]
  },
  {
   "cell_type": "code",
   "execution_count": 3,
   "id": "a9c7873b-691f-4e35-bf4f-346d1cd340aa",
   "metadata": {
    "tags": []
   },
   "outputs": [],
   "source": [
    "# Model Names\n",
    "TFIDF_MODEL = __ALL_MODELS__[0]\n",
    "BM25_MODEL = __ALL_MODELS__[1]\n",
    "MPNET_MODEL = __ALL_MODELS__[2]\n",
    "ROBERTA_MODEL = __ALL_MODELS__[3]\n",
    "\n",
    "# Dataset Configs\n",
    "DATASET_NAME = 'lotte'\n",
    "DATASET_CATEGORY = 'lifestyle'\n",
    "SPLIT = 'test'\n",
    "\n",
    "# Path Configs\n",
    "TFIDF_MODEL_PATH = __WORKSPACE__ / \"models/tfidf/lotte/lifestyle/tfidf.v0.0.1.pkl\"\n",
    "MPNET_EMB_PATH = __WORKSPACE__ / \"dataset/embeddings_test/test_v0.0.1/all-mpnet-base-v2/lotte/lifestyle\"\n",
    "ROBERTA_EMB_PATH = __WORKSPACE__ / \"dataset/embeddings_test/test_v0.0.1/all-roberta-large-v1/lotte/lifestyle\""
   ]
  },
  {
   "cell_type": "code",
   "execution_count": 4,
   "id": "601740f3-30aa-46e5-9180-19cacd7d0c2a",
   "metadata": {
    "tags": []
   },
   "outputs": [],
   "source": [
    "FILTER_TOP_N = 3_000\n",
    "VOTING_TOP_N = 100\n",
    "\n",
    "FILTER_MODEL = {\n",
    "    #TFIDF_MODEL: {'model_path': TFIDF_MODEL_PATH},\n",
    "    BM25_MODEL: {'model_path': None},\n",
    "}\n",
    "VOTER_MODELS = {\n",
    "    MPNET_MODEL: {'emb_path': MPNET_EMB_PATH},\n",
    "    ROBERTA_MODEL: {'emb_path': ROBERTA_EMB_PATH},\n",
    "}"
   ]
  },
  {
   "cell_type": "markdown",
   "id": "d0414ef9-ff47-4e18-9e0f-e92c1a089915",
   "metadata": {},
   "source": [
    "#### Path checks"
   ]
  },
  {
   "cell_type": "code",
   "execution_count": 5,
   "id": "076affa0-44aa-4466-aa7b-4be69aa6be7b",
   "metadata": {
    "tags": []
   },
   "outputs": [],
   "source": [
    "drive_link = \"https://drive.google.com/file/d/1x-lOZMwBK5Ea9eCDE18gQCTnukZ16xQT/view?usp=share_link\"\n",
    "\n",
    "if not MPNET_EMB_PATH.exists() or not ROBERTA_EMB_PATH.exists():\n",
    "    raise Exception(f\"Embeddings for MPNET model is missing at this path: '{MPNET_EMB_PATH}'.\\n\\n Please download embeddings from here '{drive_link}'.\")"
   ]
  },
  {
   "cell_type": "markdown",
   "id": "9bfc0153-a906-4ab4-856f-6bc3a46553b0",
   "metadata": {},
   "source": [
    "### Step 1 : Data Gathering"
   ]
  },
  {
   "cell_type": "code",
   "execution_count": 6,
   "id": "ae7af74d-8458-407e-81a1-03814f481dc2",
   "metadata": {
    "tags": []
   },
   "outputs": [],
   "source": [
    "SAMPLE_QUERIES_SIZE = 100    # Select first 100 queries for testing.\n",
    "\n",
    "data_gathering = DataGathering(dataset_name=DATASET_NAME, )\n",
    "docs_obj = data_gathering.get_documents(dataset_category=DATASET_CATEGORY, dataset_split=SPLIT)\n",
    "queries_obj = data_gathering.get_queries(dataset_category=DATASET_CATEGORY, dataset_split=SPLIT)\n",
    "queries_obj = {id: data for id, data in queries_obj.items() if id < SAMPLE_QUERIES_SIZE}\n",
    "    \n",
    "del data_gathering"
   ]
  },
  {
   "cell_type": "code",
   "execution_count": 7,
   "id": "8f5a1342-4cf5-4190-a2aa-31fb42ec6f7f",
   "metadata": {
    "tags": []
   },
   "outputs": [
    {
     "data": {
      "text/plain": [
       "{'document': 'Normal double-acting baking powder makes CO2 (thus giving a rising effect) in two ways: when it gets wet, and when it is heated. Baking soda only makes CO2 when it gets wet. From Wikipedia: The acid in a baking powder can be either fast-acting or slow-acting.[6] A fast-acting acid reacts in a wet mixture with baking soda at room temperature, and a slow-acting acid will not react until heated in an oven. Baking powders that contain both fast- and slow-acting acids are double acting; those that contain only one acid are single acting. By providing a second rise in the oven, double-acting baking powders increase the reliability of baked goods by rendering the time elapsed between mixing and baking less critical, and this is the type most widely available to consumers today.'}"
      ]
     },
     "execution_count": 7,
     "metadata": {},
     "output_type": "execute_result"
    }
   ],
   "source": [
    "#sample doc\n",
    "docs_obj[0]"
   ]
  },
  {
   "cell_type": "markdown",
   "id": "6653a20d-fe9c-41d5-b9b2-f544143ed788",
   "metadata": {},
   "source": [
    "### Step 2 : Init the Ensemble"
   ]
  },
  {
   "cell_type": "code",
   "execution_count": 8,
   "id": "e8f39852-a260-4e5c-bd96-9ed073f2b903",
   "metadata": {
    "tags": []
   },
   "outputs": [
    {
     "name": "stdout",
     "output_type": "stream",
     "text": [
      "----------------------------------------------------------------------\n",
      "\t\tTF4ces Search Engine\n",
      "----------------------------------------------------------------------\n",
      "Filter Model\t: ['bm25']\n",
      "Voter Models\t: ['all-mpnet-base-v2', 'all-roberta-large-v1']\n",
      "Num of Docs\t: 119461\n",
      "Filter Top N\t: 3000\n",
      "Voting Top N\t: 100\n",
      "----------------------------------------------------------------------\n",
      "\n"
     ]
    }
   ],
   "source": [
    "ensemble = TF4cesSearchEnsemble(\n",
    "    filter_model_dict=FILTER_MODEL,\n",
    "    voter_models_dict=VOTER_MODELS,\n",
    "    docs_obj=deepcopy(docs_obj),\n",
    "    filter_top_n=FILTER_TOP_N,\n",
    "    voting_top_n=VOTING_TOP_N,\n",
    ")\n",
    "ensemble.summary()"
   ]
  },
  {
   "cell_type": "markdown",
   "id": "f423b6ab-3cfa-438d-9e89-53fb130db5b9",
   "metadata": {},
   "source": [
    "### Step 3 : Load models"
   ]
  },
  {
   "cell_type": "code",
   "execution_count": 9,
   "id": "d0459b6d-ced0-4987-8bbc-1cbc727c675a",
   "metadata": {
    "tags": []
   },
   "outputs": [
    {
     "name": "stdout",
     "output_type": "stream",
     "text": [
      "Model [all-mpnet-base-v2] : Loaded on 'mps'\n",
      "Model [all-roberta-large-v1] : Loaded on 'mps'\n"
     ]
    }
   ],
   "source": [
    "ensemble.load_filter_model(bl_train=False)\n",
    "ensemble.load_voter_models()"
   ]
  },
  {
   "cell_type": "markdown",
   "id": "5f057ff9-502a-454c-9fc5-0d5d7667ff98",
   "metadata": {},
   "source": [
    "### Step 4 : Predictions"
   ]
  },
  {
   "cell_type": "code",
   "execution_count": 10,
   "id": "c7256a6d-f8e2-428c-97d9-13b275c85601",
   "metadata": {
    "tags": []
   },
   "outputs": [
    {
     "name": "stdout",
     "output_type": "stream",
     "text": [
      "Preprocessed data loaded from : /Users/ataago/Documents/git/TF4ces/TF4ces-search-engine/dataset/preprocessed/ensemble/bm25\n"
     ]
    },
    {
     "data": {
      "application/vnd.jupyter.widget-view+json": {
       "model_id": "4670e55e8e9c40d684b47e963c92c9f9",
       "version_major": 2,
       "version_minor": 0
      },
      "text/plain": [
       "Pre-Processing Queries:   0%|          | 0/100 [00:00<?, ?it/s]"
      ]
     },
     "metadata": {},
     "output_type": "display_data"
    },
    {
     "name": "stdout",
     "output_type": "stream",
     "text": [
      "Filter Model [bm25] : Retrieving top 3000 Docs for queries(100) documents(119461).\n",
      "Model [BM25] : Trained on 119461 docs.\n",
      "Model [BM25-Fast] : Finding most relevant Docs for given Queries...\n"
     ]
    },
    {
     "data": {
      "application/vnd.jupyter.widget-view+json": {
       "model_id": "dde07653d58c4af0b403f2487f01d6c2",
       "version_major": 2,
       "version_minor": 0
      },
      "text/plain": [
       "Prediction:   0%|          | 0/100 [00:00<?, ?it/s]"
      ]
     },
     "metadata": {},
     "output_type": "display_data"
    },
    {
     "name": "stdout",
     "output_type": "stream",
     "text": [
      "-------------- Evaluation --------------\n",
      "Filter Model Recall@3000 : 0.957\n",
      "Filter Model Precision@3000 : 0.001\n",
      "----------------------------------------\n",
      "-------------- Evaluation --------------\n",
      "Filter Model Recall@5 : 0.480\n",
      "Filter Model Precision@5 : 0.220\n",
      "----------------------------------------\n"
     ]
    }
   ],
   "source": [
    "# Filter Models prediction\n",
    "q_ids, filtered_rel_doc_ids = ensemble.filter_docs(queries_obj=deepcopy(queries_obj))\n",
    "recall, precision = ensemble.evaluate(q_ids=q_ids, preds_doc_ids=filtered_rel_doc_ids, K=5, queries_obj=queries_obj, to_display=\"Filter Model\")"
   ]
  },
  {
   "cell_type": "code",
   "execution_count": 11,
   "id": "615d6f36-30e1-4a2c-981f-5f2a762c1240",
   "metadata": {
    "tags": []
   },
   "outputs": [
    {
     "data": {
      "application/vnd.jupyter.widget-view+json": {
       "model_id": "85903fd812ba4b1c97e9186a771a0452",
       "version_major": 2,
       "version_minor": 0
      },
      "text/plain": [
       "Voting Model [all-mpnet-base-v2] : Loading Embeddings:   0%|          | 0/67961 [00:00<?, ?it/s]"
      ]
     },
     "metadata": {},
     "output_type": "display_data"
    },
    {
     "data": {
      "application/vnd.jupyter.widget-view+json": {
       "model_id": "13d8de42c9004922a4315b35a4b266e2",
       "version_major": 2,
       "version_minor": 0
      },
      "text/plain": [
       "Voting Model [all-roberta-large-v1] : Loading Embeddings:   0%|          | 0/67961 [00:00<?, ?it/s]"
      ]
     },
     "metadata": {},
     "output_type": "display_data"
    },
    {
     "data": {
      "application/vnd.jupyter.widget-view+json": {
       "model_id": "93d8c73e29a140c796e274bdfa07f24f",
       "version_major": 2,
       "version_minor": 0
      },
      "text/plain": [
       "Retrieve Top 100 docs using Voter Model [all-mpnet-base-v2]:   0%|          | 0/100 [00:00<?, ?it/s]"
      ]
     },
     "metadata": {},
     "output_type": "display_data"
    },
    {
     "data": {
      "application/vnd.jupyter.widget-view+json": {
       "model_id": "5e088064a2924ec6b04d9d51188c888b",
       "version_major": 2,
       "version_minor": 0
      },
      "text/plain": [
       "Retrieve Top 100 docs using Voter Model [all-roberta-large-v1]:   0%|          | 0/100 [00:00<?, ?it/s]"
      ]
     },
     "metadata": {},
     "output_type": "display_data"
    }
   ],
   "source": [
    "# Voting Models prediction\n",
    "ensemble.load_embeddings(filtered_rel_doc_ids=filtered_rel_doc_ids)\n",
    "ensemble.find_most_relevant_docs(q_ids=q_ids, filtered_rel_doc_ids=filtered_rel_doc_ids, queries_obj=queries_obj)\n",
    "preds = ensemble.ensemble_voting(ensemble_strategy=EnsembleStrategy.TXIOI)"
   ]
  },
  {
   "cell_type": "markdown",
   "id": "9f0ecc66-04d2-40a7-9c8b-472bef8c6225",
   "metadata": {},
   "source": [
    "### Step 5 : Evaluation"
   ]
  },
  {
   "cell_type": "code",
   "execution_count": 12,
   "id": "b40ed7fb-94c4-48fb-9b20-2c9c076972e7",
   "metadata": {
    "tags": []
   },
   "outputs": [
    {
     "name": "stdout",
     "output_type": "stream",
     "text": [
      "-------------- Evaluation --------------\n",
      "Voter Models Recall@5 : 0.703\n",
      "Voter Models Precision@5 : 0.389\n",
      "----------------------------------------\n"
     ]
    },
    {
     "data": {
      "image/png": "[encoded data removed]",
      "text/plain": [
       "<Figure size 640x480 with 1 Axes>"
      ]
     },
     "metadata": {},
     "output_type": "display_data"
    }
   ],
   "source": [
    "recall, precision = ensemble.evaluate(q_ids=q_ids, preds_doc_ids=preds, K=5, queries_obj=queries_obj, to_display=\"Voter Models\")\n",
    "ensemble.plot_eval_curve(q_ids=q_ids, queries_obj=queries_obj, preds_doc_ids=preds, max_k=50)"
   ]
  },
  {
   "cell_type": "markdown",
   "id": "b572fa34-fc70-4d29-a7fc-3e01045a8264",
   "metadata": {},
   "source": [
    "## Thank you"
   ]
  }
 ],
 "metadata": {
  "kernelspec": {
   "display_name": "Python 3 (ipykernel)",
   "language": "python",
   "name": "python3"
  },
  "language_info": {
   "codemirror_mode": {
    "name": "ipython",
    "version": 3
   },
   "file_extension": ".py",
   "mimetype": "text/x-python",
   "name": "python",
   "nbconvert_exporter": "python",
   "pygments_lexer": "ipython3",
   "version": "3.9.4"
  }
 },
 "nbformat": 4,
 "nbformat_minor": 5
}
