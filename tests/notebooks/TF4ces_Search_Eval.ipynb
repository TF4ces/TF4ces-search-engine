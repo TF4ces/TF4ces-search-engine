{
 "cells": [
  {
   "cell_type": "markdown",
   "id": "97f9ea35-c5af-46fc-bc15-287fbc872494",
   "metadata": {
    "slideshow": {
     "slide_type": "slide"
    }
   },
   "source": [
    "# TF4ces Search Engine\n",
    "#### Information Retrival and Ranking Pipeline Demo"
   ]
  },
  {
   "cell_type": "markdown",
   "id": "2eac753c-7e23-4936-972c-932c493e7bf0",
   "metadata": {
    "slideshow": {
     "slide_type": "skip"
    }
   },
   "source": [
    "Setup system paths"
   ]
  },
  {
   "cell_type": "code",
   "execution_count": 1,
   "id": "5ea39c34-c4d7-4584-b6aa-476766f5b23b",
   "metadata": {
    "slideshow": {
     "slide_type": "skip"
    },
    "tags": []
   },
   "outputs": [],
   "source": [
    "from pathlib import Path\n",
    "import sys\n",
    "\n",
    "__WORKSPACE__ = Path.cwd().parent.parent\n",
    "sys.path.append(str(__WORKSPACE__))\n",
    "\n",
    "__WORKSPACE__"
   ]
  },
  {
   "cell_type": "code",
   "execution_count": 2,
   "id": "0ef6f53d-ec8a-4374-afdd-29fd570d636c",
   "metadata": {
    "slideshow": {
     "slide_type": "skip"
    },
    "tags": []
   },
   "outputs": [],
   "source": [
    "# Native imports\n",
    "from copy import deepcopy\n",
    "from IPython.core.display import HTML\n",
    "\n",
    "# Third-party imports\n",
    "import pandas as pd\n",
    "import matplotlib.pyplot as plt\n",
    "\n",
    "# User imports\n",
    "from config.conf import __ALL_MODELS__\n",
    "from src.TF4ces_search_engine.data.data_gathering import DataGathering\n",
    "from src.main_ensemble import TF4cesSearchEnsemble\n",
    "from src.utils.ensemble_strategy import EnsembleStrategy\n",
    "from src.utils.evalutor import precision_K, recall_K"
   ]
  },
  {
   "cell_type": "markdown",
   "id": "cf5bd57f-75b0-47eb-a0e8-a33b8b6ffdcc",
   "metadata": {
    "slideshow": {
     "slide_type": "skip"
    }
   },
   "source": [
    "### Configs"
   ]
  },
  {
   "cell_type": "code",
   "execution_count": 4,
   "id": "a9c7873b-691f-4e35-bf4f-346d1cd340aa",
   "metadata": {
    "slideshow": {
     "slide_type": "skip"
    },
    "tags": []
   },
   "outputs": [],
   "source": [
    "# Model Names\n",
    "TFIDF_MODEL = __ALL_MODELS__[0]\n",
    "BM25_MODEL = __ALL_MODELS__[1]\n",
    "MPNET_MODEL = __ALL_MODELS__[2]\n",
    "ROBERTA_MODEL = __ALL_MODELS__[3]\n",
    "\n",
    "# Dataset Configs\n",
    "DATASET_NAME = 'lotte'\n",
    "DATASET_CATEGORY = 'lifestyle'\n",
    "SPLIT = 'test'\n",
    "\n",
    "# Path Configs\n",
    "TFIDF_MODEL_PATH = __WORKSPACE__ / \"models/tfidf/lotte/lifestyle/tfidf.v0.0.1.pkl\"\n",
    "MPNET_EMB_PATH = __WORKSPACE__ / \"dataset/embeddings_test/test_v0.0.1/all-mpnet-base-v2/lotte/lifestyle\"\n",
    "ROBERTA_EMB_PATH = __WORKSPACE__ / \"dataset/embeddings_test/test_v0.0.1/all-roberta-large-v1/lotte/lifestyle\""
   ]
  },
  {
   "cell_type": "code",
   "execution_count": 5,
   "id": "601740f3-30aa-46e5-9180-19cacd7d0c2a",
   "metadata": {
    "slideshow": {
     "slide_type": "skip"
    },
    "tags": []
   },
   "outputs": [],
   "source": [
    "FILTER_TOP_N = 3_000\n",
    "VOTING_TOP_N = 100\n",
    "\n",
    "FILTER_MODEL = {\n",
    "    #TFIDF_MODEL: {'model_path': TFIDF_MODEL_PATH},\n",
    "    BM25_MODEL: {'model_path': None},\n",
    "}\n",
    "VOTER_MODELS = {\n",
    "    MPNET_MODEL: {'emb_path': MPNET_EMB_PATH},\n",
    "    ROBERTA_MODEL: {'emb_path': ROBERTA_EMB_PATH},\n",
    "}"
   ]
  },
  {
   "cell_type": "markdown",
   "id": "d0414ef9-ff47-4e18-9e0f-e92c1a089915",
   "metadata": {
    "slideshow": {
     "slide_type": "skip"
    }
   },
   "source": [
    "#### Path checks"
   ]
  },
  {
   "cell_type": "code",
   "execution_count": 6,
   "id": "076affa0-44aa-4466-aa7b-4be69aa6be7b",
   "metadata": {
    "slideshow": {
     "slide_type": "skip"
    },
    "tags": []
   },
   "outputs": [],
   "source": [
    "drive_link = \"https://drive.google.com/file/d/1x-lOZMwBK5Ea9eCDE18gQCTnukZ16xQT/view?usp=share_link\"\n",
    "\n",
    "if not MPNET_EMB_PATH.exists() or not ROBERTA_EMB_PATH.exists():\n",
    "    raise Exception(f\"Embeddings for MPNET model is missing at this path: '{MPNET_EMB_PATH}'.\\n\\n Please download embeddings from here '{drive_link}'.\")"
   ]
  },
  {
   "cell_type": "markdown",
   "id": "9bfc0153-a906-4ab4-856f-6bc3a46553b0",
   "metadata": {
    "slideshow": {
     "slide_type": "slide"
    }
   },
   "source": [
    "### Step 1 : Data Gathering"
   ]
  },
  {
   "cell_type": "code",
   "execution_count": 7,
   "id": "ae7af74d-8458-407e-81a1-03814f481dc2",
   "metadata": {
    "slideshow": {
     "slide_type": "fragment"
    },
    "tags": []
   },
   "outputs": [],
   "source": [
    "SAMPLE_QUERIES_SIZE = 7    # Select N queries for testing.\n",
    "\n",
    "data_gathering = DataGathering(dataset_name=DATASET_NAME, )\n",
    "docs_obj = data_gathering.get_documents(dataset_category=DATASET_CATEGORY, dataset_split=SPLIT)\n",
    "queries_obj = data_gathering.get_queries(dataset_category=DATASET_CATEGORY, dataset_split=SPLIT)\n",
    "queries_obj = {id: data for id, data in queries_obj.items() if id < SAMPLE_QUERIES_SIZE}\n",
    "    \n",
    "del data_gathering"
   ]
  },
  {
   "cell_type": "code",
   "execution_count": 8,
   "id": "8f5a1342-4cf5-4190-a2aa-31fb42ec6f7f",
   "metadata": {
    "slideshow": {
     "slide_type": "fragment"
    },
    "tags": []
   },
   "outputs": [
    {
     "data": {
      "text/plain": [
       "{'document': 'Normal double-acting baking powder makes CO2 (thus giving a rising effect) in two ways: when it gets wet, and when it is heated. Baking soda only makes CO2 when it gets wet. From Wikipedia: The acid in a baking powder can be either fast-acting or slow-acting.[6] A fast-acting acid reacts in a wet mixture with baking soda at room temperature, and a slow-acting acid will not react until heated in an oven. Baking powders that contain both fast- and slow-acting acids are double acting; those that contain only one acid are single acting. By providing a second rise in the oven, double-acting baking powders increase the reliability of baked goods by rendering the time elapsed between mixing and baking less critical, and this is the type most widely available to consumers today.'}"
      ]
     },
     "execution_count": 8,
     "metadata": {},
     "output_type": "execute_result"
    }
   ],
   "source": [
    "#sample doc\n",
    "docs_obj[0]"
   ]
  },
  {
   "cell_type": "code",
   "execution_count": 9,
   "id": "51dd632e",
   "metadata": {
    "slideshow": {
     "slide_type": "fragment"
    }
   },
   "outputs": [
    {
     "data": {
      "text/plain": [
       "{'query': 'are clear pomegranate seeds good to eat?',\n",
       " 'source': 'lotte/lifestyle/test/search/0',\n",
       " 'rel_doc_ids': [14700, 16020, 24746, 28366, 32117]}"
      ]
     },
     "execution_count": 9,
     "metadata": {},
     "output_type": "execute_result"
    }
   ],
   "source": [
    "#sample query\n",
    "queries_obj[0]"
   ]
  },
  {
   "cell_type": "markdown",
   "id": "6653a20d-fe9c-41d5-b9b2-f544143ed788",
   "metadata": {
    "slideshow": {
     "slide_type": "slide"
    }
   },
   "source": [
    "### Step 2 : Init the Ensemble"
   ]
  },
  {
   "cell_type": "code",
   "execution_count": 10,
   "id": "e8f39852-a260-4e5c-bd96-9ed073f2b903",
   "metadata": {
    "slideshow": {
     "slide_type": "fragment"
    },
    "tags": []
   },
   "outputs": [
    {
     "name": "stdout",
     "output_type": "stream",
     "text": [
      "----------------------------------------------------------------------\n",
      "\t\tTF4ces Search Engine\n",
      "----------------------------------------------------------------------\n",
      "Filter Model\t: ['bm25']\n",
      "Voter Models\t: ['all-mpnet-base-v2', 'all-roberta-large-v1']\n",
      "Num of Docs\t: 119461\n",
      "Filter Top N\t: 3000\n",
      "Voting Top N\t: 100\n",
      "----------------------------------------------------------------------\n",
      "\n"
     ]
    }
   ],
   "source": [
    "ensemble = TF4cesSearchEnsemble(\n",
    "    filter_model_dict=FILTER_MODEL,\n",
    "    voter_models_dict=VOTER_MODELS,\n",
    "    docs_obj=deepcopy(docs_obj),\n",
    "    filter_top_n=FILTER_TOP_N,\n",
    "    voting_top_n=VOTING_TOP_N,\n",
    ")\n",
    "ensemble.summary()"
   ]
  },
  {
   "cell_type": "markdown",
   "id": "f423b6ab-3cfa-438d-9e89-53fb130db5b9",
   "metadata": {
    "slideshow": {
     "slide_type": "slide"
    }
   },
   "source": [
    "### Step 3 : Load models"
   ]
  },
  {
   "cell_type": "code",
   "execution_count": 11,
   "id": "d0459b6d-ced0-4987-8bbc-1cbc727c675a",
   "metadata": {
    "slideshow": {
     "slide_type": "fragment"
    },
    "tags": []
   },
   "outputs": [
    {
     "name": "stdout",
     "output_type": "stream",
     "text": [
      "Model [all-mpnet-base-v2] : Loaded on 'mps'\n",
      "Model [all-roberta-large-v1] : Loaded on 'mps'\n"
     ]
    }
   ],
   "source": [
    "ensemble.load_filter_model(bl_train=False)\n",
    "ensemble.load_voter_models()"
   ]
  },
  {
   "cell_type": "markdown",
   "id": "5f057ff9-502a-454c-9fc5-0d5d7667ff98",
   "metadata": {
    "slideshow": {
     "slide_type": "slide"
    }
   },
   "source": [
    "### Step 4 : Predictions"
   ]
  },
  {
   "cell_type": "code",
   "execution_count": 12,
   "id": "c7256a6d-f8e2-428c-97d9-13b275c85601",
   "metadata": {
    "slideshow": {
     "slide_type": "fragment"
    },
    "tags": []
   },
   "outputs": [
    {
     "name": "stdout",
     "output_type": "stream",
     "text": [
      "Preprocessed data loaded from : /Users/ataago/Documents/git/TF4ces/TF4ces-search-engine/dataset/preprocessed/ensemble/bm25\n"
     ]
    },
    {
     "data": {
      "application/vnd.jupyter.widget-view+json": {
       "model_id": "1509cd1864f649f4a8b2cc1179aec442",
       "version_major": 2,
       "version_minor": 0
      },
      "text/plain": [
       "Pre-Processing Queries:   0%|          | 0/7 [00:00<?, ?it/s]"
      ]
     },
     "metadata": {},
     "output_type": "display_data"
    },
    {
     "name": "stdout",
     "output_type": "stream",
     "text": [
      "Filter Model [bm25] : Retrieving top 3000 Docs for queries(7) documents(119461).\n",
      "Model [BM25] : Trained on 119461 docs.\n",
      "Model [BM25-Fast] : Finding most relevant Docs for given Queries...\n"
     ]
    },
    {
     "data": {
      "application/vnd.jupyter.widget-view+json": {
       "model_id": "f76fe73da9694f6fa05bf078dab1ef97",
       "version_major": 2,
       "version_minor": 0
      },
      "text/plain": [
       "Prediction:   0%|          | 0/7 [00:00<?, ?it/s]"
      ]
     },
     "metadata": {},
     "output_type": "display_data"
    },
    {
     "name": "stdout",
     "output_type": "stream",
     "text": [
      "-------------- Evaluation --------------\n",
      "Filter Model Recall@3000 : 0.948\n",
      "Filter Model Precision@3000 : 0.001\n",
      "----------------------------------------\n",
      "-------------- Evaluation --------------\n",
      "Filter Model Recall@5 : 0.598\n",
      "Filter Model Precision@5 : 0.343\n",
      "----------------------------------------\n"
     ]
    }
   ],
   "source": [
    "# Filter Models prediction\n",
    "q_ids, filtered_rel_doc_ids = ensemble.filter_docs(queries_obj=deepcopy(queries_obj))\n",
    "recall, precision = ensemble.evaluate(q_ids=q_ids, preds_doc_ids=filtered_rel_doc_ids, K=5, queries_obj=queries_obj, to_display=\"Filter Model\")"
   ]
  },
  {
   "cell_type": "code",
   "execution_count": 13,
   "id": "615d6f36-30e1-4a2c-981f-5f2a762c1240",
   "metadata": {
    "slideshow": {
     "slide_type": "fragment"
    },
    "tags": []
   },
   "outputs": [
    {
     "data": {
      "application/vnd.jupyter.widget-view+json": {
       "model_id": "8ef97a399ab14e0e9a06f2e89f628b5d",
       "version_major": 2,
       "version_minor": 0
      },
      "text/plain": [
       "Voting Model [all-mpnet-base-v2] : Loading Embeddings:   0%|          | 0/18062 [00:00<?, ?it/s]"
      ]
     },
     "metadata": {},
     "output_type": "display_data"
    },
    {
     "data": {
      "application/vnd.jupyter.widget-view+json": {
       "model_id": "0c55afe615814a029c422be1faa9650d",
       "version_major": 2,
       "version_minor": 0
      },
      "text/plain": [
       "Voting Model [all-roberta-large-v1] : Loading Embeddings:   0%|          | 0/18062 [00:00<?, ?it/s]"
      ]
     },
     "metadata": {},
     "output_type": "display_data"
    },
    {
     "data": {
      "application/vnd.jupyter.widget-view+json": {
       "model_id": "b236876e7e3d49dd9a4c4dbb6637ad0d",
       "version_major": 2,
       "version_minor": 0
      },
      "text/plain": [
       "Retrieve Top 100 docs using Voter Model [all-mpnet-base-v2]:   0%|          | 0/7 [00:00<?, ?it/s]"
      ]
     },
     "metadata": {},
     "output_type": "display_data"
    },
    {
     "data": {
      "application/vnd.jupyter.widget-view+json": {
       "model_id": "b9a8f4660f0147968f988174ca281730",
       "version_major": 2,
       "version_minor": 0
      },
      "text/plain": [
       "Retrieve Top 100 docs using Voter Model [all-roberta-large-v1]:   0%|          | 0/7 [00:00<?, ?it/s]"
      ]
     },
     "metadata": {},
     "output_type": "display_data"
    }
   ],
   "source": [
    "# Voting Models prediction\n",
    "ensemble.load_embeddings_if_not_present(filtered_rel_doc_ids=filtered_rel_doc_ids)\n",
    "ensemble.find_most_relevant_docs(q_ids=q_ids, filtered_rel_doc_ids=filtered_rel_doc_ids, queries_obj=queries_obj)\n",
    "preds = ensemble.ensemble_voting(ensemble_strategy=EnsembleStrategy.TXIOI)"
   ]
  },
  {
   "cell_type": "markdown",
   "id": "9f0ecc66-04d2-40a7-9c8b-472bef8c6225",
   "metadata": {
    "slideshow": {
     "slide_type": "slide"
    }
   },
   "source": [
    "### Step 5 : Evaluation"
   ]
  },
  {
   "cell_type": "code",
   "execution_count": 14,
   "id": "b40ed7fb-94c4-48fb-9b20-2c9c076972e7",
   "metadata": {
    "slideshow": {
     "slide_type": "fragment"
    },
    "tags": []
   },
   "outputs": [
    {
     "name": "stdout",
     "output_type": "stream",
     "text": [
      "-------------- Evaluation --------------\n",
      "Voter Models Recall@5 : 0.805\n",
      "Voter Models Precision@5 : 0.564\n",
      "----------------------------------------\n"
     ]
    },
    {
     "data": {
      "image/png": "[encoded data removed]",
      "text/plain": [
       "<Figure size 640x480 with 1 Axes>"
      ]
     },
     "metadata": {},
     "output_type": "display_data"
    }
   ],
   "source": [
    "recall, precision = ensemble.evaluate(q_ids=q_ids, preds_doc_ids=preds, K=5, queries_obj=queries_obj, to_display=\"Voter Models\")\n",
    "ensemble.plot_eval_curve(q_ids=q_ids, queries_obj=queries_obj, preds_doc_ids=preds, max_k=50)"
   ]
  },
  {
   "cell_type": "markdown",
   "id": "d4ea1966",
   "metadata": {
    "slideshow": {
     "slide_type": "slide"
    }
   },
   "source": [
    "### 6. Individual Query Analysis"
   ]
  },
  {
   "cell_type": "code",
   "execution_count": 15,
   "id": "3ca56b6b",
   "metadata": {
    "slideshow": {
     "slide_type": "skip"
    }
   },
   "outputs": [],
   "source": [
    "def get_individual_query_predictions(preds, q_ids, queries_obj, k=5):\n",
    "    gold_doc_ids = [queries_obj[q_id]['rel_doc_ids'] for q_id in q_ids]\n",
    "    queries = [queries_obj[q_id]['query'] for q_id in q_ids]\n",
    "    \n",
    "    out = list()\n",
    "    for query, gold, pred in zip(queries, gold_doc_ids, preds):\n",
    "        precision = precision_K(gold=gold, pred=pred, k=k)\n",
    "        recall = recall_K(gold=gold, pred=pred, k=k)\n",
    "        out.append([query, gold, pred[:k], round(recall, 2), round(precision, 2)])\n",
    "\n",
    "    return pd.DataFrame(out, columns=['Query', 'Gold (doc_ids)', 'Pred (doc_ids)', 'Recall', 'Precision'], index=q_ids)"
   ]
  },
  {
   "cell_type": "code",
   "execution_count": 16,
   "id": "aaffa685",
   "metadata": {
    "slideshow": {
     "slide_type": "fragment"
    }
   },
   "outputs": [
    {
     "data": {
      "text/html": [
       "<table border=\"1\" class=\"dataframe\">\n",
       "  <thead>\n",
       "    <tr style=\"text-align: right;\">\n",
       "      <th></th>\n",
       "      <th>Query</th>\n",
       "      <th>Gold (doc_ids)</th>\n",
       "      <th>Pred (doc_ids)</th>\n",
       "      <th>Recall</th>\n",
       "      <th>Precision</th>\n",
       "    </tr>\n",
       "  </thead>\n",
       "  <tbody>\n",
       "    <tr>\n",
       "      <th>0</th>\n",
       "      <td>are clear pomegranate seeds good to eat?</td>\n",
       "      <td>[14700, 16020, 24746, 28366, 32117]</td>\n",
       "      <td>[32117, 16020, 14700, 9538, 24746]</td>\n",
       "      <td>0.80</td>\n",
       "      <td>0.80</td>\n",
       "    </tr>\n",
       "    <tr>\n",
       "      <th>1</th>\n",
       "      <td>do you need to refrigerate homemade vinaigrette?</td>\n",
       "      <td>[8028, 8037, 19460, 29505]</td>\n",
       "      <td>[8028, 19460, 8028, 30833, 8037]</td>\n",
       "      <td>0.75</td>\n",
       "      <td>0.75</td>\n",
       "    </tr>\n",
       "    <tr>\n",
       "      <th>2</th>\n",
       "      <td>how many teaspoons of juice in half a lemon?</td>\n",
       "      <td>[5365, 15766, 17926, 18090]</td>\n",
       "      <td>[5365, 13342, 5365, 18090, 15766]</td>\n",
       "      <td>0.75</td>\n",
       "      <td>0.75</td>\n",
       "    </tr>\n",
       "    <tr>\n",
       "      <th>3</th>\n",
       "      <td>what is the difference between old fashioned oats and quick 1 minute oats?</td>\n",
       "      <td>[2294]</td>\n",
       "      <td>[2294, 26421, 3171, 30605, 17169]</td>\n",
       "      <td>1.00</td>\n",
       "      <td>0.20</td>\n",
       "    </tr>\n",
       "    <tr>\n",
       "      <th>4</th>\n",
       "      <td>what is a difference between oven and microwave?</td>\n",
       "      <td>[29835]</td>\n",
       "      <td>[29835, 4177, 29835, 47634, 47632]</td>\n",
       "      <td>1.00</td>\n",
       "      <td>0.25</td>\n",
       "    </tr>\n",
       "    <tr>\n",
       "      <th>5</th>\n",
       "      <td>what is the difference between risotto rice and paella rice?</td>\n",
       "      <td>[12373, 12374, 18795]</td>\n",
       "      <td>[12373, 18795, 12374, 42917, 6910]</td>\n",
       "      <td>1.00</td>\n",
       "      <td>0.60</td>\n",
       "    </tr>\n",
       "    <tr>\n",
       "      <th>6</th>\n",
       "      <td>how to cook spaghetti squash not watery?</td>\n",
       "      <td>[7722, 7726, 7764, 13425, 13426, 15520, 30185, 32228, 32922]</td>\n",
       "      <td>[7722, 47442, 15520, 13425, 29135]</td>\n",
       "      <td>0.33</td>\n",
       "      <td>0.60</td>\n",
       "    </tr>\n",
       "  </tbody>\n",
       "</table>"
      ],
      "text/plain": [
       "<IPython.core.display.HTML object>"
      ]
     },
     "metadata": {},
     "output_type": "display_data"
    }
   ],
   "source": [
    "df = get_individual_query_predictions(preds=preds, q_ids=q_ids, queries_obj=queries_obj, k=5)\n",
    "display(HTML(df.to_html()))"
   ]
  },
  {
   "cell_type": "markdown",
   "id": "a55b3836",
   "metadata": {
    "slideshow": {
     "slide_type": "slide"
    }
   },
   "source": [
    "### 7. User Query input"
   ]
  },
  {
   "cell_type": "code",
   "execution_count": 17,
   "id": "afb589ab",
   "metadata": {
    "slideshow": {
     "slide_type": "skip"
    }
   },
   "outputs": [],
   "source": [
    "def get_prediction_dfs(preds, user_queries_obj, k=5):\n",
    "    pred_dfs = dict()\n",
    "    for (q_id, q_data), pred_doc_ids in zip(user_queries_obj.items(), preds):\n",
    "        pred_dfs[q_id] = pd.DataFrame(\n",
    "            map(lambda doc_id: docs_obj[doc_id]['document'], pred_doc_ids[:k]),\n",
    "            columns=[q_data['query']],\n",
    "            index=pred_doc_ids[:k]\n",
    "        )\n",
    "    return pred_dfs\n",
    "\n",
    "def query_it(query, top=5):\n",
    "    \n",
    "    # Generate query obj\n",
    "    user_queries = [query]\n",
    "    user_queries_obj = {q_id: {'query': query, 'rel_doc_ids': list()} for q_id, query in enumerate(user_queries)}\n",
    "    \n",
    "    # Filter docs using filter model\n",
    "    q_ids, filtered_rel_doc_ids = ensemble.filter_docs(queries_obj=deepcopy(user_queries_obj), bl_eval=False)\n",
    "    \n",
    "    # Ensemble with Voter predictions\n",
    "    #ensemble.load_embeddings(filtered_rel_doc_ids=filtered_rel_doc_ids)\n",
    "    ensemble.load_embeddings_if_not_present(filtered_rel_doc_ids=filtered_rel_doc_ids)\n",
    "    ensemble.find_most_relevant_docs(q_ids=q_ids, filtered_rel_doc_ids=filtered_rel_doc_ids, queries_obj=user_queries_obj)\n",
    "    preds = ensemble.ensemble_voting(ensemble_strategy=EnsembleStrategy.TXIOI)\n",
    "    \n",
    "    # Generate data frame of docs\n",
    "    pred_dfs = get_prediction_dfs(preds=preds, user_queries_obj=user_queries_obj, k=top)\n",
    "    display(HTML(pred_dfs[0].to_html()))\n"
   ]
  },
  {
   "cell_type": "code",
   "execution_count": 18,
   "id": "a0322525",
   "metadata": {
    "slideshow": {
     "slide_type": "fragment"
    }
   },
   "outputs": [
    {
     "name": "stdout",
     "output_type": "stream",
     "text": [
      "Preprocessed data loaded from : /Users/ataago/Documents/git/TF4ces/TF4ces-search-engine/dataset/preprocessed/ensemble/bm25\n"
     ]
    },
    {
     "data": {
      "application/vnd.jupyter.widget-view+json": {
       "model_id": "7f203755f40e482286b568aecd66b030",
       "version_major": 2,
       "version_minor": 0
      },
      "text/plain": [
       "Pre-Processing Queries:   0%|          | 0/1 [00:00<?, ?it/s]"
      ]
     },
     "metadata": {},
     "output_type": "display_data"
    },
    {
     "name": "stdout",
     "output_type": "stream",
     "text": [
      "Filter Model [bm25] : Retrieving top 3000 Docs for queries(1) documents(119461).\n",
      "Model [BM25] : Trained on 119461 docs.\n",
      "Model [BM25-Fast] : Finding most relevant Docs for given Queries...\n"
     ]
    },
    {
     "data": {
      "application/vnd.jupyter.widget-view+json": {
       "model_id": "3b05e56e17054f95b07229ea832578dd",
       "version_major": 2,
       "version_minor": 0
      },
      "text/plain": [
       "Prediction:   0%|          | 0/1 [00:00<?, ?it/s]"
      ]
     },
     "metadata": {},
     "output_type": "display_data"
    },
    {
     "data": {
      "application/vnd.jupyter.widget-view+json": {
       "model_id": "fba0333086964feab0c1ae36bd988abe",
       "version_major": 2,
       "version_minor": 0
      },
      "text/plain": [
       "Voting Model [all-mpnet-base-v2] : Loading Embeddings:   0%|          | 0/1787 [00:00<?, ?it/s]"
      ]
     },
     "metadata": {},
     "output_type": "display_data"
    },
    {
     "data": {
      "application/vnd.jupyter.widget-view+json": {
       "model_id": "0a77288b7c664f879209b53d3a431e3a",
       "version_major": 2,
       "version_minor": 0
      },
      "text/plain": [
       "Voting Model [all-roberta-large-v1] : Loading Embeddings:   0%|          | 0/1787 [00:00<?, ?it/s]"
      ]
     },
     "metadata": {},
     "output_type": "display_data"
    },
    {
     "data": {
      "application/vnd.jupyter.widget-view+json": {
       "model_id": "40f40cbd9af14cfc975a269d605f9145",
       "version_major": 2,
       "version_minor": 0
      },
      "text/plain": [
       "Retrieve Top 100 docs using Voter Model [all-mpnet-base-v2]:   0%|          | 0/1 [00:00<?, ?it/s]"
      ]
     },
     "metadata": {},
     "output_type": "display_data"
    },
    {
     "data": {
      "application/vnd.jupyter.widget-view+json": {
       "model_id": "0e059a66828c42729ee603ee8384caf1",
       "version_major": 2,
       "version_minor": 0
      },
      "text/plain": [
       "Retrieve Top 100 docs using Voter Model [all-roberta-large-v1]:   0%|          | 0/1 [00:00<?, ?it/s]"
      ]
     },
     "metadata": {},
     "output_type": "display_data"
    },
    {
     "data": {
      "text/html": [
       "<table border=\"1\" class=\"dataframe\">\n",
       "  <thead>\n",
       "    <tr style=\"text-align: right;\">\n",
       "      <th></th>\n",
       "      <th>what is the difference between dark chocolate and bittersweet chocolate?</th>\n",
       "    </tr>\n",
       "  </thead>\n",
       "  <tbody>\n",
       "    <tr>\n",
       "      <th>24746</th>\n",
       "      <td>Got pomegranate with pale pink/white seed. I was surprised when i first opened it because i have been always getting the dark red seed varity. I thought i got a bad fruit. After I taste it, those pale pink/white seed taste sweeter and it is less tart than the drak red varity. It is also more juicy. I LOVED it!!</td>\n",
       "    </tr>\n",
       "    <tr>\n",
       "      <th>37727</th>\n",
       "      <td>The only thing of note I've ever taken from commercially available dried fruit is that sulphur dioxide is almost universally used as a preservative. Some people are sensitive to this. There are various limits on how much you are allowed to use, but no outright bans in preservation. You can buy fruit that has no added sulphur dioxide. This tends to be in the organic section and therefore tends to be that much more expensive. But remember that dried fruit is essentially concentrated sugar. There's a reason young children like it. So for the same reason you don't let them eat as much chocolate as they'd probably like, I'd encourage some moderation. Perhaps try some fresh fruit in your baking. In relation to calcium, it's sulphur dioxide that makes \"acid rain\", which leaches away limestone and other calcium carbonate rock sources. I can't find anything reputable that makes a link here but there's a big pile of \"health\" blogs out there that seem to think \"because acid rain\" is an answer enough, who has time to do the science? I'm certainly not saying you should avoid sulphites (unless you medically need to) but they can be avoided. Dried prunes are apparently well recognised for their benefits to bone health.</td>\n",
       "    </tr>\n",
       "    <tr>\n",
       "      <th>21138</th>\n",
       "      <td>I suspect the textural change you experienced is analogous to the seizing of chocolate (which is also a ground, fatty seed--in that aspect similar to a sunflower seed). Sunflower seeds are fairly dry. The consist mostly of fat, and starches, and protein. When you add a small amount of water (from the mashed up banana), the starches in the sunflower hydrate and absorb the water, making it thick and giving the textural transformation you experienced. If this hypothesis is correct, adding enough additional water to fully dissolve and suspend the starches will give you a smooth fluid, or paste again. As to the taste perception, that I cannot comment on.</td>\n",
       "    </tr>\n",
       "  </tbody>\n",
       "</table>"
      ],
      "text/plain": [
       "<IPython.core.display.HTML object>"
      ]
     },
     "metadata": {},
     "output_type": "display_data"
    }
   ],
   "source": [
    "query_it(\"what is the difference between dark chocolate and bittersweet chocolate?\", top=3)"
   ]
  },
  {
   "cell_type": "code",
   "execution_count": 19,
   "id": "9b1eefa5",
   "metadata": {
    "slideshow": {
     "slide_type": "slide"
    }
   },
   "outputs": [
    {
     "name": "stdout",
     "output_type": "stream",
     "text": [
      "Preprocessed data loaded from : /Users/ataago/Documents/git/TF4ces/TF4ces-search-engine/dataset/preprocessed/ensemble/bm25\n"
     ]
    },
    {
     "data": {
      "application/vnd.jupyter.widget-view+json": {
       "model_id": "2da977ddb86a4f68a61b032a2f0607fc",
       "version_major": 2,
       "version_minor": 0
      },
      "text/plain": [
       "Pre-Processing Queries:   0%|          | 0/1 [00:00<?, ?it/s]"
      ]
     },
     "metadata": {},
     "output_type": "display_data"
    },
    {
     "name": "stdout",
     "output_type": "stream",
     "text": [
      "Filter Model [bm25] : Retrieving top 3000 Docs for queries(1) documents(119461).\n",
      "Model [BM25] : Trained on 119461 docs.\n",
      "Model [BM25-Fast] : Finding most relevant Docs for given Queries...\n"
     ]
    },
    {
     "data": {
      "application/vnd.jupyter.widget-view+json": {
       "model_id": "a7c0dab05db8478385ccb4709d119186",
       "version_major": 2,
       "version_minor": 0
      },
      "text/plain": [
       "Prediction:   0%|          | 0/1 [00:00<?, ?it/s]"
      ]
     },
     "metadata": {},
     "output_type": "display_data"
    },
    {
     "data": {
      "application/vnd.jupyter.widget-view+json": {
       "model_id": "129796666234406a80f18af75e9c007d",
       "version_major": 2,
       "version_minor": 0
      },
      "text/plain": [
       "Voting Model [all-mpnet-base-v2] : Loading Embeddings:   0%|          | 0/1919 [00:00<?, ?it/s]"
      ]
     },
     "metadata": {},
     "output_type": "display_data"
    },
    {
     "data": {
      "application/vnd.jupyter.widget-view+json": {
       "model_id": "b9a68e86f8774115988634e787a35a57",
       "version_major": 2,
       "version_minor": 0
      },
      "text/plain": [
       "Voting Model [all-roberta-large-v1] : Loading Embeddings:   0%|          | 0/1919 [00:00<?, ?it/s]"
      ]
     },
     "metadata": {},
     "output_type": "display_data"
    },
    {
     "data": {
      "application/vnd.jupyter.widget-view+json": {
       "model_id": "ce26613b18c94a2c98a13f465c3103fd",
       "version_major": 2,
       "version_minor": 0
      },
      "text/plain": [
       "Retrieve Top 100 docs using Voter Model [all-mpnet-base-v2]:   0%|          | 0/1 [00:00<?, ?it/s]"
      ]
     },
     "metadata": {},
     "output_type": "display_data"
    },
    {
     "data": {
      "application/vnd.jupyter.widget-view+json": {
       "model_id": "2709757278a84766a805affbfc044816",
       "version_major": 2,
       "version_minor": 0
      },
      "text/plain": [
       "Retrieve Top 100 docs using Voter Model [all-roberta-large-v1]:   0%|          | 0/1 [00:00<?, ?it/s]"
      ]
     },
     "metadata": {},
     "output_type": "display_data"
    },
    {
     "data": {
      "text/html": [
       "<table border=\"1\" class=\"dataframe\">\n",
       "  <thead>\n",
       "    <tr style=\"text-align: right;\">\n",
       "      <th></th>\n",
       "      <th>is baking powder the same as baking flour?</th>\n",
       "    </tr>\n",
       "  </thead>\n",
       "  <tbody>\n",
       "    <tr>\n",
       "      <th>35203</th>\n",
       "      <td>Whether or not \"you\" specifically choose to de-hull pumpkin seeds before grinding them to make flour, pumpkin seed shells are certainly edible, both raw and roasted. The first source you name certainly seems to be referring to pre-shelled pumpkin seeds, not just because they mention it being green, but also because their image of finished pumpkin seed flour is comparable in color to the ground pumpkin seed flour I've made from just the kernels. Note 1: It is green…so you might not want to use it for almond flour vanilla cake (or other such light colored dishes). I am sure even if you used sucanat for a sweetener in a baked good it would be enough to cover up the light green color. Hulling pumpkin seeds is a chore without a hulling centrifuge, but the easiest way I've found is to roast them, chop them in a food chopper, and then separate the kernel bits from the hull bits using a bowl of water (the kernels will sink, the hulls will float). While pumpkin seed hulls won't damage your GI tract the way other nut hulls will, they're mostly fiber and some carbs, with a little boost of zinc in the attached endosperm. Thus, the relative difference in protein/fat/simple-carb/fiber levels will affect the texture and nutrition of your final flour product, so the choice of whether to hull or not depends primarily on whether you want this to be more of a protein powder or more of a baking flour.</td>\n",
       "    </tr>\n",
       "    <tr>\n",
       "      <th>33083</th>\n",
       "      <td>Powdered sugar doesn't seem like a great thickener to me. It takes a lot to thicken a small amount of liquid, and as you've noticed, that means it'll end up pretty sweet. As an example, you can make a glaze (e.g. for cinnamon rolls) with a cup of powdered sugar and only a few tablespoons of liquid. Generally, people thicken things using starch, most commonly flour and cornstarch, but also things like potato starch, arrowroot powder, tapioca/cassava starch. They're stronger thickeners, and don't really have much flavor of their own. So I'd use as much sugar as you want to balance the pomegranate's sourness, and then use starch to thicken. You probably won't need extra sour at that point, but if you want it, you could certainly add something like lemon juice or vinegar.</td>\n",
       "    </tr>\n",
       "    <tr>\n",
       "      <th>3908</th>\n",
       "      <td>This can commonly happen with carrots, blueberries and sunflower seeds. It's due to having a batter that's too alkaline or not having the baking soda evenly mixed throughout the batter. Anthocyanin and other food color pigments are sensitive to pH level. When they are in contact with more alkaline surroundings they will change color. While maybe a bit unappetizing in color, it's still safe to eat. Either make sure your baking soda is completely mixed with the dry ingredients and evenly moistened, or try decreasing the soda slightly.</td>\n",
       "    </tr>\n",
       "  </tbody>\n",
       "</table>"
      ],
      "text/plain": [
       "<IPython.core.display.HTML object>"
      ]
     },
     "metadata": {},
     "output_type": "display_data"
    }
   ],
   "source": [
    "query_it(\"is baking powder the same as baking flour?\", top=3)"
   ]
  },
  {
   "cell_type": "code",
   "execution_count": 20,
   "id": "8183307a",
   "metadata": {
    "slideshow": {
     "slide_type": "slide"
    }
   },
   "outputs": [
    {
     "name": "stdout",
     "output_type": "stream",
     "text": [
      "Preprocessed data loaded from : /Users/ataago/Documents/git/TF4ces/TF4ces-search-engine/dataset/preprocessed/ensemble/bm25\n"
     ]
    },
    {
     "data": {
      "application/vnd.jupyter.widget-view+json": {
       "model_id": "4629582f89db4c43908e05c163f2cf9e",
       "version_major": 2,
       "version_minor": 0
      },
      "text/plain": [
       "Pre-Processing Queries:   0%|          | 0/1 [00:00<?, ?it/s]"
      ]
     },
     "metadata": {},
     "output_type": "display_data"
    },
    {
     "name": "stdout",
     "output_type": "stream",
     "text": [
      "Filter Model [bm25] : Retrieving top 3000 Docs for queries(1) documents(119461).\n",
      "Model [BM25] : Trained on 119461 docs.\n",
      "Model [BM25-Fast] : Finding most relevant Docs for given Queries...\n"
     ]
    },
    {
     "data": {
      "application/vnd.jupyter.widget-view+json": {
       "model_id": "d94f7247dbbc485bb1b9a16c04d3769f",
       "version_major": 2,
       "version_minor": 0
      },
      "text/plain": [
       "Prediction:   0%|          | 0/1 [00:00<?, ?it/s]"
      ]
     },
     "metadata": {},
     "output_type": "display_data"
    },
    {
     "data": {
      "application/vnd.jupyter.widget-view+json": {
       "model_id": "a2481ebc79b640cd99d6ae75d2fd2a9e",
       "version_major": 2,
       "version_minor": 0
      },
      "text/plain": [
       "Voting Model [all-mpnet-base-v2] : Loading Embeddings:   0%|          | 0/1947 [00:00<?, ?it/s]"
      ]
     },
     "metadata": {},
     "output_type": "display_data"
    },
    {
     "data": {
      "application/vnd.jupyter.widget-view+json": {
       "model_id": "8c64b626ef1d4af2b560c157d70f8eb3",
       "version_major": 2,
       "version_minor": 0
      },
      "text/plain": [
       "Voting Model [all-roberta-large-v1] : Loading Embeddings:   0%|          | 0/1947 [00:00<?, ?it/s]"
      ]
     },
     "metadata": {},
     "output_type": "display_data"
    },
    {
     "data": {
      "application/vnd.jupyter.widget-view+json": {
       "model_id": "3f3d9712009d48908fba40b820d343b4",
       "version_major": 2,
       "version_minor": 0
      },
      "text/plain": [
       "Retrieve Top 100 docs using Voter Model [all-mpnet-base-v2]:   0%|          | 0/1 [00:00<?, ?it/s]"
      ]
     },
     "metadata": {},
     "output_type": "display_data"
    },
    {
     "data": {
      "application/vnd.jupyter.widget-view+json": {
       "model_id": "d98dd41df6a9435eacbf8917e210d0a2",
       "version_major": 2,
       "version_minor": 0
      },
      "text/plain": [
       "Retrieve Top 100 docs using Voter Model [all-roberta-large-v1]:   0%|          | 0/1 [00:00<?, ?it/s]"
      ]
     },
     "metadata": {},
     "output_type": "display_data"
    },
    {
     "data": {
      "text/html": [
       "<table border=\"1\" class=\"dataframe\">\n",
       "  <thead>\n",
       "    <tr style=\"text-align: right;\">\n",
       "      <th></th>\n",
       "      <th>How do I flip an egg easily when preparing it?</th>\n",
       "    </tr>\n",
       "  </thead>\n",
       "  <tbody>\n",
       "    <tr>\n",
       "      <th>35944</th>\n",
       "      <td>At between 1000-3500 on the Scoville scale poblanos are certainly safe to use raw. Cleaning(removing the insides) would help to mellow them. Peeling them would probably be good, and that is challenging with a raw poblano. Torching them (per @SomeInterwebDev) to make them peel easily is a good idea, or just roast them...</td>\n",
       "    </tr>\n",
       "    <tr>\n",
       "      <th>32334</th>\n",
       "      <td>Pumpkin seeds roasted with a little of salty water is a great (and commonly sold and home made in México) snack. They are also used along with sunflower seeds in preparing some hot sauces and Mole (the hard way). Seeds of Cantaloupe (melon) and Watermelon can be blendend along with their edible parts to strengthen flavor and keep freshness when preparing fruit flavored/fresh water (\"Agua fresca\"). When watermelon seeds are really small, you can eat and chew them along with the fruit: they are usually sweet.</td>\n",
       "    </tr>\n",
       "    <tr>\n",
       "      <th>35944</th>\n",
       "      <td>At between 1000-3500 on the Scoville scale poblanos are certainly safe to use raw. Cleaning(removing the insides) would help to mellow them. Peeling them would probably be good, and that is challenging with a raw poblano. Torching them (per @SomeInterwebDev) to make them peel easily is a good idea, or just roast them...</td>\n",
       "    </tr>\n",
       "  </tbody>\n",
       "</table>"
      ],
      "text/plain": [
       "<IPython.core.display.HTML object>"
      ]
     },
     "metadata": {},
     "output_type": "display_data"
    }
   ],
   "source": [
    "query_it(\"How do I flip an egg easily when preparing it?\", top=3)"
   ]
  },
  {
   "cell_type": "markdown",
   "id": "b572fa34-fc70-4d29-a7fc-3e01045a8264",
   "metadata": {
    "slideshow": {
     "slide_type": "slide"
    }
   },
   "source": [
    "## Thank you"
   ]
  },
  {
   "cell_type": "markdown",
   "id": "3f3982e2",
   "metadata": {
    "slideshow": {
     "slide_type": "fragment"
    }
   },
   "source": [
    "Group 2 : **The Four Aces : TF4ces**\n",
    "\n",
    "Members : \n",
    "\t\n",
    "    - Ayushi Choudhury\n",
    "\t- Edmund Lepre\n",
    "\t- Arvind Jadhav\n",
    "    - Mohammed Ataaur Rahaman\n",
    "    \n",
    "\n",
    "Project : github.com/TF4ces/TF4ces-search-engine"
   ]
  }
 ],
 "metadata": {
  "celltoolbar": "Slideshow",
  "kernelspec": {
   "display_name": "Python 3 (ipykernel)",
   "language": "python",
   "name": "python3"
  },
  "language_info": {
   "codemirror_mode": {
    "name": "ipython",
    "version": 3
   },
   "file_extension": ".py",
   "mimetype": "text/x-python",
   "name": "python",
   "nbconvert_exporter": "python",
   "pygments_lexer": "ipython3",
   "version": "3.9.4"
  }
 },
 "nbformat": 4,
 "nbformat_minor": 5
}
